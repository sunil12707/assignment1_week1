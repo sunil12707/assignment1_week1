{
  "nbformat": 4,
  "nbformat_minor": 0,
  "metadata": {
    "colab": {
      "provenance": []
    },
    "kernelspec": {
      "name": "python3",
      "display_name": "Python 3"
    },
    "language_info": {
      "name": "python"
    }
  },
  "cells": [
    {
      "cell_type": "markdown",
      "source": [
        "**Q1. Create one variable containing following type of data:\n",
        "(i) string\n",
        "(ii) list\n",
        "(iii) float\n",
        "(iv) tuple**"
      ],
      "metadata": {
        "id": "xyihZsli21Hk"
      }
    },
    {
      "cell_type": "code",
      "source": [
        "my_string = \"Hello, world!\"\n",
        "my_list = [1, 2, 3, 4, 5]\n",
        "my_float = 3.14\n",
        "my_tuple = (10, 20, 30)\n",
        "\n",
        "merged_data = [my_string, my_list, my_float, my_tuple]\n"
      ],
      "metadata": {
        "id": "62RPn4Lg2wo5"
      },
      "execution_count": null,
      "outputs": []
    },
    {
      "cell_type": "markdown",
      "source": [
        "**Q2. Given are some following variables containing data:\n",
        "(i) var1 = ‘ ‘\n",
        "(ii) var2 = ‘[ DS , ML , Python]’\n",
        "(iii) var3 = [ ‘DS’ , ’ML’ , ‘Python’ ]\n",
        "(iv) var4 = 1.\n",
        "What will be the data type of the above given variable.**"
      ],
      "metadata": {
        "id": "BOWfuv4g2-2L"
      }
    },
    {
      "cell_type": "code",
      "source": [
        "var1 = ' '\n",
        "var2 = '[ DS , ML , Python]'\n",
        "var3 = ['DS', 'ML', 'Python']\n",
        "var4 = 1.\n",
        "\n",
        "print(\"Data types:\")\n",
        "print(\"var1:\", type(var1))\n",
        "print(\"var2:\", type(var2))\n",
        "print(\"var3:\", type(var3))\n",
        "print(\"var4:\", type(var4))\n"
      ],
      "metadata": {
        "colab": {
          "base_uri": "https://localhost:8080/"
        },
        "id": "COZMkFhP2wry",
        "outputId": "f31d9ad3-9b01-4bbf-9707-121707aa39ce"
      },
      "execution_count": 1,
      "outputs": [
        {
          "output_type": "stream",
          "name": "stdout",
          "text": [
            "Data types:\n",
            "var1: <class 'str'>\n",
            "var2: <class 'str'>\n",
            "var3: <class 'list'>\n",
            "var4: <class 'float'>\n"
          ]
        }
      ]
    },
    {
      "cell_type": "markdown",
      "source": [
        "**Q3:Explain the use of the following operators using an example:\n",
        "(i) /\n",
        "(ii) %\n",
        "(iii) //\n",
        "(iv) ****"
      ],
      "metadata": {
        "id": "QgQnyfRs3sA1"
      }
    },
    {
      "cell_type": "markdown",
      "source": [
        "**(i) / (Division Operator):\n",
        "The / operator is used for division and returns the quotient as a floating-point number.**"
      ],
      "metadata": {
        "id": "swPVRPxw3yF7"
      }
    },
    {
      "cell_type": "code",
      "source": [
        "x = 10\n",
        "y = 3\n",
        "\n",
        "result = x / y\n",
        "print(result)\n"
      ],
      "metadata": {
        "colab": {
          "base_uri": "https://localhost:8080/"
        },
        "id": "hi3W1tjd2wud",
        "outputId": "d8c22e82-04af-4a14-a5a1-488d9ff2acb3"
      },
      "execution_count": 2,
      "outputs": [
        {
          "output_type": "stream",
          "name": "stdout",
          "text": [
            "3.3333333333333335\n"
          ]
        }
      ]
    },
    {
      "cell_type": "markdown",
      "source": [
        "**(ii) % (Modulo Operator):\n",
        "The % operator is used for modulo or remainder division. It returns the remainder after dividing the left operand by the right operand.**"
      ],
      "metadata": {
        "id": "E89zRLEb39Hj"
      }
    },
    {
      "cell_type": "code",
      "source": [
        "x = 10\n",
        "y = 3\n",
        "\n",
        "result = x % y\n",
        "print(result)\n"
      ],
      "metadata": {
        "colab": {
          "base_uri": "https://localhost:8080/"
        },
        "id": "5LqqcRrm3u_D",
        "outputId": "926d564f-57ea-4c79-9558-043f57f64567"
      },
      "execution_count": 3,
      "outputs": [
        {
          "output_type": "stream",
          "name": "stdout",
          "text": [
            "1\n"
          ]
        }
      ]
    },
    {
      "cell_type": "markdown",
      "source": [
        "**(iii) // (Floor Division Operator):\n",
        "The // operator is used for floor division. It divides the left operand by the right operand and returns the largest integer less than or equal to the quotient.**"
      ],
      "metadata": {
        "id": "aiKOvUhA4RYS"
      }
    },
    {
      "cell_type": "code",
      "source": [
        "x = 10\n",
        "y = 3\n",
        "\n",
        "result = x // y\n",
        "print(result)\n"
      ],
      "metadata": {
        "colab": {
          "base_uri": "https://localhost:8080/"
        },
        "id": "1q5odXbf3vCL",
        "outputId": "821387b3-b6b1-44fb-a63c-e60e23aedb0d"
      },
      "execution_count": 4,
      "outputs": [
        {
          "output_type": "stream",
          "name": "stdout",
          "text": [
            "3\n"
          ]
        }
      ]
    },
    {
      "cell_type": "markdown",
      "source": [
        "**(iv) ** (Exponentiation Operator):\n",
        "The ** operator is used for exponentiation. It raises the left operand to the power of the right operand.**"
      ],
      "metadata": {
        "id": "w72BMgMS4Wti"
      }
    },
    {
      "cell_type": "code",
      "source": [
        "x = 2\n",
        "y = 3\n",
        "\n",
        "result = x ** y\n",
        "print(result)\n"
      ],
      "metadata": {
        "colab": {
          "base_uri": "https://localhost:8080/"
        },
        "id": "9Rd_t55d3vFb",
        "outputId": "08fcc7ee-1573-4fa8-87a9-64e71b5cbed6"
      },
      "execution_count": 5,
      "outputs": [
        {
          "output_type": "stream",
          "name": "stdout",
          "text": [
            "8\n"
          ]
        }
      ]
    },
    {
      "cell_type": "markdown",
      "source": [
        "**Q4. Create a list of length 10 of your choice containing multiple types of data. Using for loop print the\n",
        "element and its data type.**"
      ],
      "metadata": {
        "id": "H0okT0OL4iZ5"
      }
    },
    {
      "cell_type": "code",
      "source": [
        "a=[1,2,3,True,False,\"sunil\",3+8j,45.7,88.9,[1,2,3],(6,6,9),{111,12,13},{\"name\":\"sunil\",\"class\":\"B.tech\"}]\n",
        "for i in a:\n",
        "  print(i,type(i))"
      ],
      "metadata": {
        "colab": {
          "base_uri": "https://localhost:8080/"
        },
        "id": "O6BtfQGA2wxV",
        "outputId": "46983f4e-aded-4890-f32e-f8daf32d1c74"
      },
      "execution_count": 8,
      "outputs": [
        {
          "output_type": "stream",
          "name": "stdout",
          "text": [
            "1 <class 'int'>\n",
            "2 <class 'int'>\n",
            "3 <class 'int'>\n",
            "True <class 'bool'>\n",
            "False <class 'bool'>\n",
            "sunil <class 'str'>\n",
            "(3+8j) <class 'complex'>\n",
            "45.7 <class 'float'>\n",
            "88.9 <class 'float'>\n",
            "[1, 2, 3] <class 'list'>\n",
            "(6, 6, 9) <class 'tuple'>\n",
            "{12, 13, 111} <class 'set'>\n",
            "{'name': 'sunil', 'class': 'B.tech'} <class 'dict'>\n"
          ]
        }
      ]
    },
    {
      "cell_type": "markdown",
      "source": [
        "**Q5. Using a while loop, verify if the number A is purely divisible by number B and if so then how many\n",
        "times it can be divisible.**"
      ],
      "metadata": {
        "id": "HHqBfcem6Gs6"
      }
    },
    {
      "cell_type": "code",
      "source": [
        "A = int(input(\"Enter the number A: \"))\n",
        "B = int(input(\"Enter the number B: \"))\n",
        "\n",
        "count = 0\n",
        "\n",
        "while A % B == 0:\n",
        "    A = A // B\n",
        "    count += 1\n",
        "\n",
        "if count > 0:\n",
        "    print(f\"The number A is divisible by B, and it can be divided {count} times.\")\n",
        "else:\n",
        "    print(\"The number A is not divisible by B.\")\n",
        "\n"
      ],
      "metadata": {
        "colab": {
          "base_uri": "https://localhost:8080/"
        },
        "id": "b2RU8E6N5oV-",
        "outputId": "5430b86a-f436-4985-c3bb-53a9f513d043"
      },
      "execution_count": 17,
      "outputs": [
        {
          "output_type": "stream",
          "name": "stdout",
          "text": [
            "Enter the number A: 15\n",
            "Enter the number B: 6\n",
            "The number A is not divisible by B.\n"
          ]
        }
      ]
    },
    {
      "cell_type": "code",
      "source": [
        "A = int(input(\"Enter the number A: \"))\n",
        "B = int(input(\"Enter the number B: \"))\n",
        "\n",
        "count = 0\n",
        "\n",
        "while A % B == 0:\n",
        "    A = A // B\n",
        "    print(\"A :\",A)\n",
        "    count += 1\n",
        "    print(\"count :\",count)\n",
        "\n",
        "if count > 0:\n",
        "    print(f\"The number A is divisible by B, and it can be divided {count} times.\")\n",
        "else:\n",
        "    print(\"The number A is not divisible by B.\")\n",
        "\n"
      ],
      "metadata": {
        "colab": {
          "base_uri": "https://localhost:8080/"
        },
        "id": "2psLJjml6IzT",
        "outputId": "9bd622ff-049b-47bb-d9b4-698a269ea99f"
      },
      "execution_count": 14,
      "outputs": [
        {
          "output_type": "stream",
          "name": "stdout",
          "text": [
            "Enter the number A: 12\n",
            "Enter the number B: 2\n",
            "A : 6\n",
            "count : 1\n",
            "A : 3\n",
            "count : 2\n",
            "The number A is divisible by B, and it can be divided 2 times.\n"
          ]
        }
      ]
    },
    {
      "cell_type": "markdown",
      "source": [
        "**Q6. Create a list containing 25 int type data. Using for loop and if-else condition print if the element is\n",
        "divisible by 3 or not.**"
      ],
      "metadata": {
        "id": "F7eEmzbw-N0a"
      }
    },
    {
      "cell_type": "code",
      "source": [
        "a=list(range(1,26))"
      ],
      "metadata": {
        "id": "WQ3VIRUu-NEj"
      },
      "execution_count": 18,
      "outputs": []
    },
    {
      "cell_type": "code",
      "source": [
        "print(a)"
      ],
      "metadata": {
        "colab": {
          "base_uri": "https://localhost:8080/"
        },
        "id": "rCxsqSO8-QY6",
        "outputId": "4a4edcfd-dd96-49d5-e6f4-489c3143f789"
      },
      "execution_count": 21,
      "outputs": [
        {
          "output_type": "stream",
          "name": "stdout",
          "text": [
            "[1, 2, 3, 4, 5, 6, 7, 8, 9, 10, 11, 12, 13, 14, 15, 16, 17, 18, 19, 20, 21, 22, 23, 24, 25]\n"
          ]
        }
      ]
    },
    {
      "cell_type": "code",
      "source": [
        "for i in a:\n",
        "  if i%3==0:\n",
        "    print(f\"the element {i} is divisible by 3\")\n",
        "  else:\n",
        "    print(f\"the element {i} is not divisible by 3\")"
      ],
      "metadata": {
        "colab": {
          "base_uri": "https://localhost:8080/"
        },
        "id": "mFCaUzfw-Qby",
        "outputId": "75cc22cd-2152-4906-f68c-e6be4c78679e"
      },
      "execution_count": 22,
      "outputs": [
        {
          "output_type": "stream",
          "name": "stdout",
          "text": [
            "the element 1 is not divisible by 3\n",
            "the element 2 is not divisible by 3\n",
            "the element 3 is divisible by 3\n",
            "the element 4 is not divisible by 3\n",
            "the element 5 is not divisible by 3\n",
            "the element 6 is divisible by 3\n",
            "the element 7 is not divisible by 3\n",
            "the element 8 is not divisible by 3\n",
            "the element 9 is divisible by 3\n",
            "the element 10 is not divisible by 3\n",
            "the element 11 is not divisible by 3\n",
            "the element 12 is divisible by 3\n",
            "the element 13 is not divisible by 3\n",
            "the element 14 is not divisible by 3\n",
            "the element 15 is divisible by 3\n",
            "the element 16 is not divisible by 3\n",
            "the element 17 is not divisible by 3\n",
            "the element 18 is divisible by 3\n",
            "the element 19 is not divisible by 3\n",
            "the element 20 is not divisible by 3\n",
            "the element 21 is divisible by 3\n",
            "the element 22 is not divisible by 3\n",
            "the element 23 is not divisible by 3\n",
            "the element 24 is divisible by 3\n",
            "the element 25 is not divisible by 3\n"
          ]
        }
      ]
    },
    {
      "cell_type": "markdown",
      "source": [
        "**Q7. What do you understand about mutable and immutable data types? Give examples for both showing\n",
        "this property.**"
      ],
      "metadata": {
        "id": "jKU2D1q1_msK"
      }
    },
    {
      "cell_type": "markdown",
      "source": [
        "**In programming, the terms \"mutable\" and \"immutable\" refer to the ability of an object or data type to be modified or changed after it is created**"
      ],
      "metadata": {
        "id": "SXKz5EmP_raw"
      }
    },
    {
      "cell_type": "markdown",
      "source": [
        "**Immutable data types:\n",
        "Immutable data types are those whose values cannot be modified after they are created. If you want to modify an immutable object, you need to create a new object with the updated value. Examples of immutable data types in Python include:**"
      ],
      "metadata": {
        "id": "kdNbiYUU_yCY"
      }
    },
    {
      "cell_type": "code",
      "source": [
        "x = 10\n",
        "x += 5  # This creates a new integer object with the value 15\n",
        "x"
      ],
      "metadata": {
        "colab": {
          "base_uri": "https://localhost:8080/"
        },
        "id": "kR95a1z7-Qfk",
        "outputId": "d3b9b7a5-f61a-427f-8386-32cf96261786"
      },
      "execution_count": 24,
      "outputs": [
        {
          "output_type": "execute_result",
          "data": {
            "text/plain": [
              "15"
            ]
          },
          "metadata": {},
          "execution_count": 24
        }
      ]
    },
    {
      "cell_type": "code",
      "source": [
        "y = 3.14\n",
        "y = y + 1  # This creates a new float object with the value 4.14\n",
        "y"
      ],
      "metadata": {
        "colab": {
          "base_uri": "https://localhost:8080/"
        },
        "id": "sdxhouE46I5a",
        "outputId": "ec01de7e-f73d-4acb-9f5b-2b6026a0b8a9"
      },
      "execution_count": 25,
      "outputs": [
        {
          "output_type": "execute_result",
          "data": {
            "text/plain": [
              "4.140000000000001"
            ]
          },
          "metadata": {},
          "execution_count": 25
        }
      ]
    },
    {
      "cell_type": "code",
      "source": [
        "message = \"Hello\"\n",
        "message += \", World!\"  # This creates a new string object with the value \"Hello, World!\"\n",
        "message"
      ],
      "metadata": {
        "colab": {
          "base_uri": "https://localhost:8080/",
          "height": 36
        },
        "id": "PPIyFPoB_82B",
        "outputId": "5221ab25-7cc2-4f3b-ad35-265201f02b71"
      },
      "execution_count": 27,
      "outputs": [
        {
          "output_type": "execute_result",
          "data": {
            "text/plain": [
              "'Hello, World!'"
            ],
            "application/vnd.google.colaboratory.intrinsic+json": {
              "type": "string"
            }
          },
          "metadata": {},
          "execution_count": 27
        }
      ]
    },
    {
      "cell_type": "markdown",
      "source": [
        "**Mutable data types:\n",
        "Mutable data types are those that can be modified or changed after they are created. You can modify the values of mutable objects directly without creating a new object. Examples of mutable data types in Python include:**"
      ],
      "metadata": {
        "id": "EeFRuse2AGf6"
      }
    },
    {
      "cell_type": "code",
      "source": [
        "my_list = [1, 2, 3]\n",
        "my_list.append(4)  # Modifies the existing list by adding an element at the end\n",
        "my_list"
      ],
      "metadata": {
        "colab": {
          "base_uri": "https://localhost:8080/"
        },
        "id": "u8gChrLDABXz",
        "outputId": "74e760f5-f499-4add-e0a2-2d77cd63e2d0"
      },
      "execution_count": 29,
      "outputs": [
        {
          "output_type": "execute_result",
          "data": {
            "text/plain": [
              "[1, 2, 3, 4]"
            ]
          },
          "metadata": {},
          "execution_count": 29
        }
      ]
    },
    {
      "cell_type": "code",
      "source": [
        "a=[1,2,3,4]\n",
        "a[3]\n",
        "a[3]=111\n",
        "a"
      ],
      "metadata": {
        "colab": {
          "base_uri": "https://localhost:8080/"
        },
        "id": "I53IYNcjAVTK",
        "outputId": "e10f1ca1-948a-4406-a2fc-43f18304ca28"
      },
      "execution_count": 32,
      "outputs": [
        {
          "output_type": "execute_result",
          "data": {
            "text/plain": [
              "[1, 2, 3, 111]"
            ]
          },
          "metadata": {},
          "execution_count": 32
        }
      ]
    },
    {
      "cell_type": "code",
      "source": [
        "my_dict = {'name': 'John', 'age': 25}\n",
        "my_dict['age'] = 26  # Modifies the existing dictionary by changing the value of the 'age' key\n",
        "my_dict"
      ],
      "metadata": {
        "colab": {
          "base_uri": "https://localhost:8080/"
        },
        "id": "YwfWdpNoAJNC",
        "outputId": "94099c24-3cb2-4527-d94f-5460afa16430"
      },
      "execution_count": 30,
      "outputs": [
        {
          "output_type": "execute_result",
          "data": {
            "text/plain": [
              "{'name': 'John', 'age': 26}"
            ]
          },
          "metadata": {},
          "execution_count": 30
        }
      ]
    },
    {
      "cell_type": "code",
      "source": [
        "my_set = {1, 2, 3}\n",
        "my_set.add(4)  # Modifies the existing set by adding an element\n",
        "my_set"
      ],
      "metadata": {
        "colab": {
          "base_uri": "https://localhost:8080/"
        },
        "id": "mpC_fjFhAJPp",
        "outputId": "31ad18a3-8180-4b12-9442-6fbd7eb4ac98"
      },
      "execution_count": 34,
      "outputs": [
        {
          "output_type": "execute_result",
          "data": {
            "text/plain": [
              "{1, 2, 3, 4}"
            ]
          },
          "metadata": {},
          "execution_count": 34
        }
      ]
    },
    {
      "cell_type": "code",
      "source": [],
      "metadata": {
        "id": "eJ-_PuC3AJSa"
      },
      "execution_count": null,
      "outputs": []
    },
    {
      "cell_type": "code",
      "source": [],
      "metadata": {
        "id": "M9liRQxvAJVT"
      },
      "execution_count": null,
      "outputs": []
    },
    {
      "cell_type": "code",
      "source": [],
      "metadata": {
        "id": "vksTr5obAJYE"
      },
      "execution_count": null,
      "outputs": []
    }
  ]
}